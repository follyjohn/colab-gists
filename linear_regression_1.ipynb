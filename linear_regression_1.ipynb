{
  "nbformat": 4,
  "nbformat_minor": 0,
  "metadata": {
    "colab": {
      "name": "linear-regression-1.ipynb",
      "provenance": [],
      "authorship_tag": "ABX9TyO0r4Jp78oQsfUJRhziVugr",
      "include_colab_link": true
    },
    "kernelspec": {
      "name": "python3",
      "display_name": "Python 3"
    }
  },
  "cells": [
    {
      "cell_type": "markdown",
      "metadata": {
        "id": "view-in-github",
        "colab_type": "text"
      },
      "source": [
        "<a href=\"https://colab.research.google.com/github/follyjohn/colab-gists/blob/master/linear_regression_1.ipynb\" target=\"_parent\"><img src=\"https://colab.research.google.com/assets/colab-badge.svg\" alt=\"Open In Colab\"/></a>"
      ]
    },
    {
      "cell_type": "code",
      "metadata": {
        "id": "IRDmKmG8OtqC",
        "colab_type": "code",
        "colab": {
          "base_uri": "https://localhost:8080/",
          "height": 71
        },
        "outputId": "1832747c-47f0-4070-d8fb-8de4f6257658"
      },
      "source": [
        "import numpy as np\n",
        "import statsmodels.api as sm"
      ],
      "execution_count": 1,
      "outputs": [
        {
          "output_type": "stream",
          "text": [
            "/usr/local/lib/python3.6/dist-packages/statsmodels/tools/_testing.py:19: FutureWarning: pandas.util.testing is deprecated. Use the functions in the public API at pandas.testing instead.\n",
            "  import pandas.util.testing as tm\n"
          ],
          "name": "stderr"
        }
      ]
    },
    {
      "cell_type": "code",
      "metadata": {
        "id": "5Plq0Z_APX94",
        "colab_type": "code",
        "colab": {}
      },
      "source": [
        "x = [[0, 1], [5, 1], [15, 2], [25, 5], [35, 11], [45, 15], [55, 34], [60, 35]]\n",
        "y = [4, 5, 20, 14, 32, 22, 38, 43]\n",
        "x, y = np.array(x), np.array(y)"
      ],
      "execution_count": 2,
      "outputs": []
    },
    {
      "cell_type": "code",
      "metadata": {
        "id": "-iVoawbuPay2",
        "colab_type": "code",
        "colab": {
          "base_uri": "https://localhost:8080/",
          "height": 153
        },
        "outputId": "f48248a1-8560-4b6e-c233-ffb435ddaaf5"
      },
      "source": [
        "x = sm.add_constant(x)\n",
        "print(x)"
      ],
      "execution_count": 3,
      "outputs": [
        {
          "output_type": "stream",
          "text": [
            "[[ 1.  0.  1.]\n",
            " [ 1.  5.  1.]\n",
            " [ 1. 15.  2.]\n",
            " [ 1. 25.  5.]\n",
            " [ 1. 35. 11.]\n",
            " [ 1. 45. 15.]\n",
            " [ 1. 55. 34.]\n",
            " [ 1. 60. 35.]]\n"
          ],
          "name": "stdout"
        }
      ]
    }
  ]
}